{
  "nbformat": 4,
  "nbformat_minor": 0,
  "metadata": {
    "colab": {
      "provenance": [],
      "gpuType": "T4"
    },
    "kernelspec": {
      "name": "python3",
      "display_name": "Python 3"
    },
    "language_info": {
      "name": "python"
    },
    "accelerator": "GPU"
  },
  "cells": [
    {
      "cell_type": "markdown",
      "metadata": {
        "id": "H9wADwK78DCz"
      },
      "source": [
        "# Proyek Klasifikasi Gambar: AnimeLens"
      ]
    },
    {
      "cell_type": "markdown",
      "metadata": {
        "id": "H-z4QGlO8DC1"
      },
      "source": [
        "## Import Semua Packages/Library yang Digunakan"
      ]
    },
    {
      "cell_type": "code",
      "execution_count": 1,
      "metadata": {
        "id": "FVYwaObI8DC1"
      },
      "outputs": [],
      "source": [
        "import pandas as pd\n",
        "import numpy as np\n",
        "import matplotlib.pyplot as plt\n",
        "import matplotlib.cm as cm\n",
        "import seaborn as sns\n",
        "import zipfile\n",
        "import os\n",
        "import shutil\n",
        "import random\n",
        "from PIL import Image\n",
        "import tensorflow as tf\n",
        "from tensorflow.keras.preprocessing.image import ImageDataGenerator\n",
        "from tensorflow.keras.models import Model\n",
        "from tensorflow.keras.layers import Dense, GlobalAveragePooling2D, Dropout\n",
        "from tensorflow.keras.applications import MobileNetV2\n",
        "from keras.callbacks import Callback, EarlyStopping, ReduceLROnPlateau\n",
        "from tensorflow.keras.regularizers import l2\n",
        "from tensorflow.keras.optimizers import Adam"
      ]
    },
    {
      "cell_type": "markdown",
      "source": [
        "## Data Preparation"
      ],
      "metadata": {
        "id": "TK4DvqfbYrN8"
      }
    },
    {
      "cell_type": "markdown",
      "metadata": {
        "id": "HHekw29KX4XQ"
      },
      "source": [
        "### Data Loading"
      ]
    },
    {
      "cell_type": "code",
      "execution_count": 2,
      "metadata": {
        "id": "wIcv1F9fX4XQ",
        "colab": {
          "base_uri": "https://localhost:8080/"
        },
        "outputId": "eb295b9e-627d-4c0c-9ac2-cb28849acbd6"
      },
      "outputs": [
        {
          "output_type": "stream",
          "name": "stdout",
          "text": [
            "Requirement already satisfied: gdown in /usr/local/lib/python3.11/dist-packages (5.2.0)\n",
            "Requirement already satisfied: beautifulsoup4 in /usr/local/lib/python3.11/dist-packages (from gdown) (4.13.4)\n",
            "Requirement already satisfied: filelock in /usr/local/lib/python3.11/dist-packages (from gdown) (3.18.0)\n",
            "Requirement already satisfied: requests[socks] in /usr/local/lib/python3.11/dist-packages (from gdown) (2.32.3)\n",
            "Requirement already satisfied: tqdm in /usr/local/lib/python3.11/dist-packages (from gdown) (4.67.1)\n",
            "Requirement already satisfied: soupsieve>1.2 in /usr/local/lib/python3.11/dist-packages (from beautifulsoup4->gdown) (2.7)\n",
            "Requirement already satisfied: typing-extensions>=4.0.0 in /usr/local/lib/python3.11/dist-packages (from beautifulsoup4->gdown) (4.13.2)\n",
            "Requirement already satisfied: charset-normalizer<4,>=2 in /usr/local/lib/python3.11/dist-packages (from requests[socks]->gdown) (3.4.2)\n",
            "Requirement already satisfied: idna<4,>=2.5 in /usr/local/lib/python3.11/dist-packages (from requests[socks]->gdown) (3.10)\n",
            "Requirement already satisfied: urllib3<3,>=1.21.1 in /usr/local/lib/python3.11/dist-packages (from requests[socks]->gdown) (2.4.0)\n",
            "Requirement already satisfied: certifi>=2017.4.17 in /usr/local/lib/python3.11/dist-packages (from requests[socks]->gdown) (2025.4.26)\n",
            "Requirement already satisfied: PySocks!=1.5.7,>=1.5.6 in /usr/local/lib/python3.11/dist-packages (from requests[socks]->gdown) (1.7.1)\n",
            "Retrieving folder contents\n",
            "Processing file 17JoLzVBDzE99EqhTGwH6O1q-KrNKiGHq AnimeLens.rar\n",
            "Retrieving folder contents completed\n",
            "Building directory structure\n",
            "Building directory structure completed\n",
            "Downloading...\n",
            "From (original): https://drive.google.com/uc?id=17JoLzVBDzE99EqhTGwH6O1q-KrNKiGHq\n",
            "From (redirected): https://drive.google.com/uc?id=17JoLzVBDzE99EqhTGwH6O1q-KrNKiGHq&confirm=t&uuid=72d0f040-263c-46ba-a151-173b6a1628db\n",
            "To: /content/Capstone/AnimeLens.rar\n",
            "100% 400M/400M [00:05<00:00, 68.6MB/s]\n",
            "Download completed\n"
          ]
        }
      ],
      "source": [
        "!pip install gdown\n",
        "\n",
        "!gdown --folder https://drive.google.com/drive/folders/1UC9gmzoZDn_FNN8kbqc3eePJ4bOR4kyH?usp=sharing"
      ]
    },
    {
      "cell_type": "code",
      "source": [
        "!pip install rarfile"
      ],
      "metadata": {
        "colab": {
          "base_uri": "https://localhost:8080/"
        },
        "id": "wBAaDYImAOdI",
        "outputId": "d52a8c05-813e-4d5b-d65d-02d154181e66"
      },
      "execution_count": 3,
      "outputs": [
        {
          "output_type": "stream",
          "name": "stdout",
          "text": [
            "Collecting rarfile\n",
            "  Downloading rarfile-4.2-py3-none-any.whl.metadata (4.4 kB)\n",
            "Downloading rarfile-4.2-py3-none-any.whl (29 kB)\n",
            "Installing collected packages: rarfile\n",
            "Successfully installed rarfile-4.2\n"
          ]
        }
      ]
    },
    {
      "cell_type": "code",
      "execution_count": 4,
      "metadata": {
        "id": "8HJokQbxX98s",
        "colab": {
          "base_uri": "https://localhost:8080/"
        },
        "outputId": "569abed4-5e6f-4121-ed5f-368279b4a09d"
      },
      "outputs": [
        {
          "output_type": "stream",
          "name": "stdout",
          "text": [
            "Successfully extracted /content/Capstone/AnimeLens.rar to /content/Capstone\n"
          ]
        }
      ],
      "source": [
        "import rarfile\n",
        "extract_dir = \"/content/Capstone\"\n",
        "os.makedirs(extract_dir, exist_ok=True)\n",
        "\n",
        "try:\n",
        "    with rarfile.RarFile(\"/content/Capstone/AnimeLens.rar\", 'r') as rar_ref:\n",
        "        rar_ref.extractall(extract_dir)\n",
        "    print(f\"Successfully extracted /content/Capstone/AnimeLens.rar to {extract_dir}\")\n",
        "except rarfile.BadRarFile:\n",
        "    print(\"Error: The file is not a valid RAR archive or is corrupted.\")\n",
        "except FileNotFoundError:\n",
        "    print(\"Error: The file /content/Capstone/AnimeLens.rar was not found.\")\n",
        "except Exception as e:\n",
        "    print(f\"An unexpected error occurred: {e}\")"
      ]
    },
    {
      "cell_type": "code",
      "source": [
        "# Path ke folder utama dataset\n",
        "Dataset_dir = '/content/Capstone/AnimeLens'\n",
        "\n",
        "# Inisialisasi list untuk menyimpan informasi\n",
        "file_name = []\n",
        "labels = []\n",
        "full_path = []\n",
        "widths = []\n",
        "heights = []\n",
        "formats = []\n",
        "\n",
        "# Looping melalui seluruh file di folder dan subfolder\n",
        "for path, subdirs, files in os.walk(Dataset_dir):\n",
        "    for name in files:\n",
        "        file_path = os.path.join(path, name)\n",
        "\n",
        "        try:\n",
        "            with Image.open(file_path) as img:\n",
        "                width, height = img.size\n",
        "                fmt = img.format\n",
        "        except:\n",
        "            width, height, fmt = None, None, None\n",
        "\n",
        "        # Simpan data\n",
        "        full_path.append(file_path)\n",
        "        file_name.append(name)\n",
        "        labels.append(os.path.basename(path))\n",
        "        widths.append(width)\n",
        "        heights.append(height)\n",
        "        formats.append(fmt)\n",
        "\n",
        "# Membuat DataFrame\n",
        "df = pd.DataFrame({\n",
        "    \"path\": full_path,\n",
        "    \"file_name\": file_name,\n",
        "    \"labels\": labels,\n",
        "    \"width\": widths,\n",
        "    \"height\": heights,\n",
        "    \"format\": formats\n",
        "})\n",
        "\n",
        "# Tampilkan contoh\n",
        "df.head()"
      ],
      "metadata": {
        "colab": {
          "base_uri": "https://localhost:8080/",
          "height": 379
        },
        "id": "N54xrpvjbTDz",
        "outputId": "cb7fc4ed-77fc-4ccd-ac4a-3ff6ef5b55da"
      },
      "execution_count": 5,
      "outputs": [
        {
          "output_type": "execute_result",
          "data": {
            "text/plain": [
              "                                                path  \\\n",
              "0  /content/Capstone/AnimeLens/Fireworks, Should ...   \n",
              "1  /content/Capstone/AnimeLens/Fireworks, Should ...   \n",
              "2  /content/Capstone/AnimeLens/Fireworks, Should ...   \n",
              "3  /content/Capstone/AnimeLens/Fireworks, Should ...   \n",
              "4  /content/Capstone/AnimeLens/Fireworks, Should ...   \n",
              "\n",
              "                                           file_name  \\\n",
              "0  Fireworks, Should We See It from the Side or t...   \n",
              "1  Fireworks, Should We See It from the Side or t...   \n",
              "2  Fireworks, Should We See It from the Side or t...   \n",
              "3  Fireworks, Should We See It from the Side or t...   \n",
              "4  Fireworks, Should We See It from the Side or t...   \n",
              "\n",
              "                                              labels  width  height format  \n",
              "0  Fireworks, Should We See It from the Side or t...    300     300    PNG  \n",
              "1  Fireworks, Should We See It from the Side or t...    300     300    PNG  \n",
              "2  Fireworks, Should We See It from the Side or t...    300     300    PNG  \n",
              "3  Fireworks, Should We See It from the Side or t...    300     300    PNG  \n",
              "4  Fireworks, Should We See It from the Side or t...    300     300    PNG  "
            ],
            "text/html": [
              "\n",
              "  <div id=\"df-bf49d10e-e35f-4d16-985c-99cb459973a1\" class=\"colab-df-container\">\n",
              "    <div>\n",
              "<style scoped>\n",
              "    .dataframe tbody tr th:only-of-type {\n",
              "        vertical-align: middle;\n",
              "    }\n",
              "\n",
              "    .dataframe tbody tr th {\n",
              "        vertical-align: top;\n",
              "    }\n",
              "\n",
              "    .dataframe thead th {\n",
              "        text-align: right;\n",
              "    }\n",
              "</style>\n",
              "<table border=\"1\" class=\"dataframe\">\n",
              "  <thead>\n",
              "    <tr style=\"text-align: right;\">\n",
              "      <th></th>\n",
              "      <th>path</th>\n",
              "      <th>file_name</th>\n",
              "      <th>labels</th>\n",
              "      <th>width</th>\n",
              "      <th>height</th>\n",
              "      <th>format</th>\n",
              "    </tr>\n",
              "  </thead>\n",
              "  <tbody>\n",
              "    <tr>\n",
              "      <th>0</th>\n",
              "      <td>/content/Capstone/AnimeLens/Fireworks, Should ...</td>\n",
              "      <td>Fireworks, Should We See It from the Side or t...</td>\n",
              "      <td>Fireworks, Should We See It from the Side or t...</td>\n",
              "      <td>300</td>\n",
              "      <td>300</td>\n",
              "      <td>PNG</td>\n",
              "    </tr>\n",
              "    <tr>\n",
              "      <th>1</th>\n",
              "      <td>/content/Capstone/AnimeLens/Fireworks, Should ...</td>\n",
              "      <td>Fireworks, Should We See It from the Side or t...</td>\n",
              "      <td>Fireworks, Should We See It from the Side or t...</td>\n",
              "      <td>300</td>\n",
              "      <td>300</td>\n",
              "      <td>PNG</td>\n",
              "    </tr>\n",
              "    <tr>\n",
              "      <th>2</th>\n",
              "      <td>/content/Capstone/AnimeLens/Fireworks, Should ...</td>\n",
              "      <td>Fireworks, Should We See It from the Side or t...</td>\n",
              "      <td>Fireworks, Should We See It from the Side or t...</td>\n",
              "      <td>300</td>\n",
              "      <td>300</td>\n",
              "      <td>PNG</td>\n",
              "    </tr>\n",
              "    <tr>\n",
              "      <th>3</th>\n",
              "      <td>/content/Capstone/AnimeLens/Fireworks, Should ...</td>\n",
              "      <td>Fireworks, Should We See It from the Side or t...</td>\n",
              "      <td>Fireworks, Should We See It from the Side or t...</td>\n",
              "      <td>300</td>\n",
              "      <td>300</td>\n",
              "      <td>PNG</td>\n",
              "    </tr>\n",
              "    <tr>\n",
              "      <th>4</th>\n",
              "      <td>/content/Capstone/AnimeLens/Fireworks, Should ...</td>\n",
              "      <td>Fireworks, Should We See It from the Side or t...</td>\n",
              "      <td>Fireworks, Should We See It from the Side or t...</td>\n",
              "      <td>300</td>\n",
              "      <td>300</td>\n",
              "      <td>PNG</td>\n",
              "    </tr>\n",
              "  </tbody>\n",
              "</table>\n",
              "</div>\n",
              "    <div class=\"colab-df-buttons\">\n",
              "\n",
              "  <div class=\"colab-df-container\">\n",
              "    <button class=\"colab-df-convert\" onclick=\"convertToInteractive('df-bf49d10e-e35f-4d16-985c-99cb459973a1')\"\n",
              "            title=\"Convert this dataframe to an interactive table.\"\n",
              "            style=\"display:none;\">\n",
              "\n",
              "  <svg xmlns=\"http://www.w3.org/2000/svg\" height=\"24px\" viewBox=\"0 -960 960 960\">\n",
              "    <path d=\"M120-120v-720h720v720H120Zm60-500h600v-160H180v160Zm220 220h160v-160H400v160Zm0 220h160v-160H400v160ZM180-400h160v-160H180v160Zm440 0h160v-160H620v160ZM180-180h160v-160H180v160Zm440 0h160v-160H620v160Z\"/>\n",
              "  </svg>\n",
              "    </button>\n",
              "\n",
              "  <style>\n",
              "    .colab-df-container {\n",
              "      display:flex;\n",
              "      gap: 12px;\n",
              "    }\n",
              "\n",
              "    .colab-df-convert {\n",
              "      background-color: #E8F0FE;\n",
              "      border: none;\n",
              "      border-radius: 50%;\n",
              "      cursor: pointer;\n",
              "      display: none;\n",
              "      fill: #1967D2;\n",
              "      height: 32px;\n",
              "      padding: 0 0 0 0;\n",
              "      width: 32px;\n",
              "    }\n",
              "\n",
              "    .colab-df-convert:hover {\n",
              "      background-color: #E2EBFA;\n",
              "      box-shadow: 0px 1px 2px rgba(60, 64, 67, 0.3), 0px 1px 3px 1px rgba(60, 64, 67, 0.15);\n",
              "      fill: #174EA6;\n",
              "    }\n",
              "\n",
              "    .colab-df-buttons div {\n",
              "      margin-bottom: 4px;\n",
              "    }\n",
              "\n",
              "    [theme=dark] .colab-df-convert {\n",
              "      background-color: #3B4455;\n",
              "      fill: #D2E3FC;\n",
              "    }\n",
              "\n",
              "    [theme=dark] .colab-df-convert:hover {\n",
              "      background-color: #434B5C;\n",
              "      box-shadow: 0px 1px 3px 1px rgba(0, 0, 0, 0.15);\n",
              "      filter: drop-shadow(0px 1px 2px rgba(0, 0, 0, 0.3));\n",
              "      fill: #FFFFFF;\n",
              "    }\n",
              "  </style>\n",
              "\n",
              "    <script>\n",
              "      const buttonEl =\n",
              "        document.querySelector('#df-bf49d10e-e35f-4d16-985c-99cb459973a1 button.colab-df-convert');\n",
              "      buttonEl.style.display =\n",
              "        google.colab.kernel.accessAllowed ? 'block' : 'none';\n",
              "\n",
              "      async function convertToInteractive(key) {\n",
              "        const element = document.querySelector('#df-bf49d10e-e35f-4d16-985c-99cb459973a1');\n",
              "        const dataTable =\n",
              "          await google.colab.kernel.invokeFunction('convertToInteractive',\n",
              "                                                    [key], {});\n",
              "        if (!dataTable) return;\n",
              "\n",
              "        const docLinkHtml = 'Like what you see? Visit the ' +\n",
              "          '<a target=\"_blank\" href=https://colab.research.google.com/notebooks/data_table.ipynb>data table notebook</a>'\n",
              "          + ' to learn more about interactive tables.';\n",
              "        element.innerHTML = '';\n",
              "        dataTable['output_type'] = 'display_data';\n",
              "        await google.colab.output.renderOutput(dataTable, element);\n",
              "        const docLink = document.createElement('div');\n",
              "        docLink.innerHTML = docLinkHtml;\n",
              "        element.appendChild(docLink);\n",
              "      }\n",
              "    </script>\n",
              "  </div>\n",
              "\n",
              "\n",
              "    <div id=\"df-28558450-5e2f-4132-9fd5-16a3763ed8ae\">\n",
              "      <button class=\"colab-df-quickchart\" onclick=\"quickchart('df-28558450-5e2f-4132-9fd5-16a3763ed8ae')\"\n",
              "                title=\"Suggest charts\"\n",
              "                style=\"display:none;\">\n",
              "\n",
              "<svg xmlns=\"http://www.w3.org/2000/svg\" height=\"24px\"viewBox=\"0 0 24 24\"\n",
              "     width=\"24px\">\n",
              "    <g>\n",
              "        <path d=\"M19 3H5c-1.1 0-2 .9-2 2v14c0 1.1.9 2 2 2h14c1.1 0 2-.9 2-2V5c0-1.1-.9-2-2-2zM9 17H7v-7h2v7zm4 0h-2V7h2v10zm4 0h-2v-4h2v4z\"/>\n",
              "    </g>\n",
              "</svg>\n",
              "      </button>\n",
              "\n",
              "<style>\n",
              "  .colab-df-quickchart {\n",
              "      --bg-color: #E8F0FE;\n",
              "      --fill-color: #1967D2;\n",
              "      --hover-bg-color: #E2EBFA;\n",
              "      --hover-fill-color: #174EA6;\n",
              "      --disabled-fill-color: #AAA;\n",
              "      --disabled-bg-color: #DDD;\n",
              "  }\n",
              "\n",
              "  [theme=dark] .colab-df-quickchart {\n",
              "      --bg-color: #3B4455;\n",
              "      --fill-color: #D2E3FC;\n",
              "      --hover-bg-color: #434B5C;\n",
              "      --hover-fill-color: #FFFFFF;\n",
              "      --disabled-bg-color: #3B4455;\n",
              "      --disabled-fill-color: #666;\n",
              "  }\n",
              "\n",
              "  .colab-df-quickchart {\n",
              "    background-color: var(--bg-color);\n",
              "    border: none;\n",
              "    border-radius: 50%;\n",
              "    cursor: pointer;\n",
              "    display: none;\n",
              "    fill: var(--fill-color);\n",
              "    height: 32px;\n",
              "    padding: 0;\n",
              "    width: 32px;\n",
              "  }\n",
              "\n",
              "  .colab-df-quickchart:hover {\n",
              "    background-color: var(--hover-bg-color);\n",
              "    box-shadow: 0 1px 2px rgba(60, 64, 67, 0.3), 0 1px 3px 1px rgba(60, 64, 67, 0.15);\n",
              "    fill: var(--button-hover-fill-color);\n",
              "  }\n",
              "\n",
              "  .colab-df-quickchart-complete:disabled,\n",
              "  .colab-df-quickchart-complete:disabled:hover {\n",
              "    background-color: var(--disabled-bg-color);\n",
              "    fill: var(--disabled-fill-color);\n",
              "    box-shadow: none;\n",
              "  }\n",
              "\n",
              "  .colab-df-spinner {\n",
              "    border: 2px solid var(--fill-color);\n",
              "    border-color: transparent;\n",
              "    border-bottom-color: var(--fill-color);\n",
              "    animation:\n",
              "      spin 1s steps(1) infinite;\n",
              "  }\n",
              "\n",
              "  @keyframes spin {\n",
              "    0% {\n",
              "      border-color: transparent;\n",
              "      border-bottom-color: var(--fill-color);\n",
              "      border-left-color: var(--fill-color);\n",
              "    }\n",
              "    20% {\n",
              "      border-color: transparent;\n",
              "      border-left-color: var(--fill-color);\n",
              "      border-top-color: var(--fill-color);\n",
              "    }\n",
              "    30% {\n",
              "      border-color: transparent;\n",
              "      border-left-color: var(--fill-color);\n",
              "      border-top-color: var(--fill-color);\n",
              "      border-right-color: var(--fill-color);\n",
              "    }\n",
              "    40% {\n",
              "      border-color: transparent;\n",
              "      border-right-color: var(--fill-color);\n",
              "      border-top-color: var(--fill-color);\n",
              "    }\n",
              "    60% {\n",
              "      border-color: transparent;\n",
              "      border-right-color: var(--fill-color);\n",
              "    }\n",
              "    80% {\n",
              "      border-color: transparent;\n",
              "      border-right-color: var(--fill-color);\n",
              "      border-bottom-color: var(--fill-color);\n",
              "    }\n",
              "    90% {\n",
              "      border-color: transparent;\n",
              "      border-bottom-color: var(--fill-color);\n",
              "    }\n",
              "  }\n",
              "</style>\n",
              "\n",
              "      <script>\n",
              "        async function quickchart(key) {\n",
              "          const quickchartButtonEl =\n",
              "            document.querySelector('#' + key + ' button');\n",
              "          quickchartButtonEl.disabled = true;  // To prevent multiple clicks.\n",
              "          quickchartButtonEl.classList.add('colab-df-spinner');\n",
              "          try {\n",
              "            const charts = await google.colab.kernel.invokeFunction(\n",
              "                'suggestCharts', [key], {});\n",
              "          } catch (error) {\n",
              "            console.error('Error during call to suggestCharts:', error);\n",
              "          }\n",
              "          quickchartButtonEl.classList.remove('colab-df-spinner');\n",
              "          quickchartButtonEl.classList.add('colab-df-quickchart-complete');\n",
              "        }\n",
              "        (() => {\n",
              "          let quickchartButtonEl =\n",
              "            document.querySelector('#df-28558450-5e2f-4132-9fd5-16a3763ed8ae button');\n",
              "          quickchartButtonEl.style.display =\n",
              "            google.colab.kernel.accessAllowed ? 'block' : 'none';\n",
              "        })();\n",
              "      </script>\n",
              "    </div>\n",
              "\n",
              "    </div>\n",
              "  </div>\n"
            ],
            "application/vnd.google.colaboratory.intrinsic+json": {
              "type": "dataframe",
              "variable_name": "df",
              "summary": "{\n  \"name\": \"df\",\n  \"rows\": 3000,\n  \"fields\": [\n    {\n      \"column\": \"path\",\n      \"properties\": {\n        \"dtype\": \"string\",\n        \"num_unique_values\": 3000,\n        \"samples\": [\n          \"/content/Capstone/AnimeLens/Josee, the Tiger and the Fish/Josee, the Tiger and the Fish-141.png\",\n          \"/content/Capstone/AnimeLens/Your Name/Your Name-246.png\",\n          \"/content/Capstone/AnimeLens/Josee, the Tiger and the Fish/Josee, the Tiger and the Fish-107.png\"\n        ],\n        \"semantic_type\": \"\",\n        \"description\": \"\"\n      }\n    },\n    {\n      \"column\": \"file_name\",\n      \"properties\": {\n        \"dtype\": \"string\",\n        \"num_unique_values\": 3000,\n        \"samples\": [\n          \"Josee, the Tiger and the Fish-141.png\",\n          \"Your Name-246.png\",\n          \"Josee, the Tiger and the Fish-107.png\"\n        ],\n        \"semantic_type\": \"\",\n        \"description\": \"\"\n      }\n    },\n    {\n      \"column\": \"labels\",\n      \"properties\": {\n        \"dtype\": \"category\",\n        \"num_unique_values\": 10,\n        \"samples\": [\n          \"A Silent Voice\",\n          \"Hello World\",\n          \"Grave of the Fireflies\"\n        ],\n        \"semantic_type\": \"\",\n        \"description\": \"\"\n      }\n    },\n    {\n      \"column\": \"width\",\n      \"properties\": {\n        \"dtype\": \"number\",\n        \"std\": 0,\n        \"min\": 300,\n        \"max\": 300,\n        \"num_unique_values\": 1,\n        \"samples\": [\n          300\n        ],\n        \"semantic_type\": \"\",\n        \"description\": \"\"\n      }\n    },\n    {\n      \"column\": \"height\",\n      \"properties\": {\n        \"dtype\": \"number\",\n        \"std\": 0,\n        \"min\": 300,\n        \"max\": 300,\n        \"num_unique_values\": 1,\n        \"samples\": [\n          300\n        ],\n        \"semantic_type\": \"\",\n        \"description\": \"\"\n      }\n    },\n    {\n      \"column\": \"format\",\n      \"properties\": {\n        \"dtype\": \"category\",\n        \"num_unique_values\": 1,\n        \"samples\": [\n          \"PNG\"\n        ],\n        \"semantic_type\": \"\",\n        \"description\": \"\"\n      }\n    }\n  ]\n}"
            }
          },
          "metadata": {},
          "execution_count": 5
        }
      ]
    },
    {
      "cell_type": "code",
      "source": [
        "total_images = len(df)\n",
        "print(f\"Total Gambar: {total_images}\")"
      ],
      "metadata": {
        "colab": {
          "base_uri": "https://localhost:8080/"
        },
        "id": "2480Ft3ZywCP",
        "outputId": "36e191d7-7775-4747-9899-a1454eba2503"
      },
      "execution_count": 6,
      "outputs": [
        {
          "output_type": "stream",
          "name": "stdout",
          "text": [
            "Total Gambar: 3000\n"
          ]
        }
      ]
    },
    {
      "cell_type": "code",
      "source": [
        "df['labels'].unique()"
      ],
      "metadata": {
        "colab": {
          "base_uri": "https://localhost:8080/"
        },
        "id": "-Jlfm5EDfih7",
        "outputId": "331a52c4-90e1-4f1e-f420-1a77ecd74556"
      },
      "execution_count": 7,
      "outputs": [
        {
          "output_type": "execute_result",
          "data": {
            "text/plain": [
              "array(['Fireworks, Should We See It from the Side or the Bottom',\n",
              "       'Hello World', 'The Garden of Words', 'Your Name', 'Summer Ghost',\n",
              "       'Grave of the Fireflies', 'Josee, the Tiger and the Fish',\n",
              "       'A Whisker Away', 'A Silent Voice', 'The Anthem of the Heart'],\n",
              "      dtype=object)"
            ]
          },
          "metadata": {},
          "execution_count": 7
        }
      ]
    },
    {
      "cell_type": "code",
      "source": [
        "# Hitung jumlah gambar per label\n",
        "label_counts = df['labels'].value_counts()\n",
        "\n",
        "# Visualisasi bar plot\n",
        "plt.figure(figsize=(12, 8))\n",
        "sns.barplot(x=label_counts.index, y=label_counts.values, palette='viridis')\n",
        "plt.title(\"Distribusi Jumlah Gambar per Label\")\n",
        "plt.xlabel(\"Label (Kelas)\")\n",
        "plt.ylabel(\"Jumlah Gambar\")\n",
        "plt.xticks(rotation=90)\n",
        "plt.tight_layout()\n",
        "plt.show()"
      ],
      "metadata": {
        "colab": {
          "base_uri": "https://localhost:8080/",
          "height": 693
        },
        "id": "gI2zta1ZevFK",
        "outputId": "1e559f23-3e6d-44d7-bc7f-f4899897d1ea"
      },
      "execution_count": 8,
      "outputs": [
        {
          "output_type": "stream",
          "name": "stderr",
          "text": [
            "<ipython-input-8-a3b979b4efa3>:6: FutureWarning: \n",
            "\n",
            "Passing `palette` without assigning `hue` is deprecated and will be removed in v0.14.0. Assign the `x` variable to `hue` and set `legend=False` for the same effect.\n",
            "\n",
            "  sns.barplot(x=label_counts.index, y=label_counts.values, palette='viridis')\n"
          ]
        },
        {
          "output_type": "display_data",
          "data": {
            "text/plain": [
              "<Figure size 1200x800 with 1 Axes>"
            ],
            "image/png": "[encoded data removed]"
          },
          "metadata": {}
        }
      ]
    },
    {
      "cell_type": "code",
      "source": [
        "def print_images_resolution(root_dir, allowed_ext={'.jpg', '.jpeg', '.png'}):\n",
        "    total_images = 0\n",
        "\n",
        "    for path, subdirs, files in os.walk(root_dir):\n",
        "        image_files = [f for f in files if os.path.splitext(f)[1].lower() in allowed_ext]\n",
        "        if not image_files:\n",
        "            continue\n",
        "\n",
        "        relative_folder = os.path.relpath(path, root_dir)\n",
        "        print(f\"{relative_folder}: {len(image_files)}\")\n",
        "        total_images += len(image_files)\n",
        "\n",
        "        unique_sizes = set()\n",
        "\n",
        "        for img_file in image_files:\n",
        "            img_path = os.path.join(path, img_file)\n",
        "            try:\n",
        "                with Image.open(img_path) as img:\n",
        "                    unique_sizes.add(img.size)\n",
        "            except Exception as e:\n",
        "                print(f\"  Gagal membuka: {img_file} ({e})\")\n",
        "\n",
        "        for size in unique_sizes:\n",
        "            print(f\"  - Resolusi: {size}\")\n",
        "        print(\"---------------\")\n",
        "\n",
        "    print(f\"Total semua gambar: {total_images}\")\n",
        "\n",
        "print_images_resolution('/content/Capstone/AnimeLens')"
      ],
      "metadata": {
        "colab": {
          "base_uri": "https://localhost:8080/"
        },
        "id": "umJdvYHMy54A",
        "outputId": "4cd83401-cb3d-467b-969e-b0509e990b5d"
      },
      "execution_count": 9,
      "outputs": [
        {
          "output_type": "stream",
          "name": "stdout",
          "text": [
            "Fireworks, Should We See It from the Side or the Bottom: 300\n",
            "  - Resolusi: (300, 300)\n",
            "---------------\n",
            "Hello World: 300\n",
            "  - Resolusi: (300, 300)\n",
            "---------------\n",
            "The Garden of Words: 300\n",
            "  - Resolusi: (300, 300)\n",
            "---------------\n",
            "Your Name: 300\n",
            "  - Resolusi: (300, 300)\n",
            "---------------\n",
            "Summer Ghost: 300\n",
            "  - Resolusi: (300, 300)\n",
            "---------------\n",
            "Grave of the Fireflies: 300\n",
            "  - Resolusi: (300, 300)\n",
            "---------------\n",
            "Josee, the Tiger and the Fish: 300\n",
            "  - Resolusi: (300, 300)\n",
            "---------------\n",
            "A Whisker Away: 300\n",
            "  - Resolusi: (300, 300)\n",
            "---------------\n",
            "A Silent Voice: 300\n",
            "  - Resolusi: (300, 300)\n",
            "---------------\n",
            "The Anthem of the Heart: 300\n",
            "  - Resolusi: (300, 300)\n",
            "---------------\n",
            "Total semua gambar: 3000\n"
          ]
        }
      ]
    },
    {
      "cell_type": "markdown",
      "metadata": {
        "id": "bFgLyQPHX98s"
      },
      "source": [
        "### Data Preprocessing"
      ]
    },
    {
      "cell_type": "markdown",
      "source": [
        "#### Split Dataset"
      ],
      "metadata": {
        "id": "9ICO2-E0YxzD"
      }
    },
    {
      "cell_type": "code",
      "source": [
        "def split_dataset_train_test(source_dir, output_dir, train_ratio=0.90, seed=42):\n",
        "    random.seed(seed)\n",
        "\n",
        "    # Buat folder output train & test\n",
        "    for split in ['train', 'test']:\n",
        "        os.makedirs(os.path.join(output_dir, split), exist_ok=True)\n",
        "\n",
        "    for class_name in os.listdir(source_dir):\n",
        "        class_path = os.path.join(source_dir, class_name)\n",
        "        if not os.path.isdir(class_path):\n",
        "            continue\n",
        "\n",
        "        images = [f for f in os.listdir(class_path) if f.lower().endswith(('.jpg', '.jpeg', '.png'))]\n",
        "        random.shuffle(images)\n",
        "\n",
        "        n_total = len(images)\n",
        "        n_train = int(train_ratio * n_total)\n",
        "        splits = {\n",
        "            'train': images[:n_train],\n",
        "            'test': images[n_train:]\n",
        "        }\n",
        "\n",
        "        for split, img_list in splits.items():\n",
        "            split_class_dir = os.path.join(output_dir, split, class_name)\n",
        "            os.makedirs(split_class_dir, exist_ok=True)\n",
        "\n",
        "            for img_file in img_list:\n",
        "                src = os.path.join(class_path, img_file)\n",
        "                dst = os.path.join(split_class_dir, img_file)\n",
        "                shutil.copy2(src, dst)\n",
        "\n",
        "        print(f\"{class_name}: {n_total} → train: {n_train}, test: {n_total - n_train}\")\n",
        "\n",
        "    print(\"Dataset berhasil di-split ke dalam train dan test.\")"
      ],
      "metadata": {
        "id": "_j_r4EFAjF3H"
      },
      "execution_count": 10,
      "outputs": []
    },
    {
      "cell_type": "code",
      "source": [
        "split_dataset_train_test(\n",
        "    source_dir=\"/content/Capstone/AnimeLens\",\n",
        "    output_dir=\"/content/split_dataset\",\n",
        "    train_ratio=0.90\n",
        ")"
      ],
      "metadata": {
        "colab": {
          "base_uri": "https://localhost:8080/"
        },
        "id": "M4HlgChsJIMa",
        "outputId": "fd87e3b0-cd6f-4449-cd75-4fedcf70adb6"
      },
      "execution_count": 11,
      "outputs": [
        {
          "output_type": "stream",
          "name": "stdout",
          "text": [
            "Fireworks, Should We See It from the Side or the Bottom: 300 → train: 270, test: 30\n",
            "Hello World: 300 → train: 270, test: 30\n",
            "The Garden of Words: 300 → train: 270, test: 30\n",
            "Your Name: 300 → train: 270, test: 30\n",
            "Summer Ghost: 300 → train: 270, test: 30\n",
            "Grave of the Fireflies: 300 → train: 270, test: 30\n",
            "Josee, the Tiger and the Fish: 300 → train: 270, test: 30\n",
            "A Whisker Away: 300 → train: 270, test: 30\n",
            "A Silent Voice: 300 → train: 270, test: 30\n",
            "The Anthem of the Heart: 300 → train: 270, test: 30\n",
            "Dataset berhasil di-split ke dalam train dan test.\n"
          ]
        }
      ]
    },
    {
      "cell_type": "code",
      "source": [
        "def df_split_dataset(base_path):\n",
        "    data = []\n",
        "    for split in ['train', 'test']:\n",
        "        split_path = os.path.join(base_path, split)\n",
        "        for class_name in os.listdir(split_path):\n",
        "            class_dir = os.path.join(split_path, class_name)\n",
        "            if os.path.isdir(class_dir):\n",
        "                for file_name in os.listdir(class_dir):\n",
        "                    if file_name.lower().endswith(('.jpg', '.jpeg', '.png')):\n",
        "                        file_path = os.path.join(class_dir, file_name)\n",
        "                        data.append({\n",
        "                            'path': file_path,\n",
        "                            'file_name': file_name,\n",
        "                            'label': class_name,\n",
        "                        })\n",
        "\n",
        "    return pd.DataFrame(data)\n",
        "\n",
        "df_split = df_split_dataset(\"/content/split_dataset\")\n",
        "print(df_split.head())"
      ],
      "metadata": {
        "colab": {
          "base_uri": "https://localhost:8080/"
        },
        "id": "kG4qMJqbPB3W",
        "outputId": "746acbaa-43b5-4659-f93d-4b3e2345d4fb"
      },
      "execution_count": 12,
      "outputs": [
        {
          "output_type": "stream",
          "name": "stdout",
          "text": [
            "                                                path  \\\n",
            "0  /content/split_dataset/train/Fireworks, Should...   \n",
            "1  /content/split_dataset/train/Fireworks, Should...   \n",
            "2  /content/split_dataset/train/Fireworks, Should...   \n",
            "3  /content/split_dataset/train/Fireworks, Should...   \n",
            "4  /content/split_dataset/train/Fireworks, Should...   \n",
            "\n",
            "                                           file_name  \\\n",
            "0  Fireworks, Should We See It from the Side or t...   \n",
            "1  Fireworks, Should We See It from the Side or t...   \n",
            "2  Fireworks, Should We See It from the Side or t...   \n",
            "3  Fireworks, Should We See It from the Side or t...   \n",
            "4  Fireworks, Should We See It from the Side or t...   \n",
            "\n",
            "                                               label  \n",
            "0  Fireworks, Should We See It from the Side or t...  \n",
            "1  Fireworks, Should We See It from the Side or t...  \n",
            "2  Fireworks, Should We See It from the Side or t...  \n",
            "3  Fireworks, Should We See It from the Side or t...  \n",
            "4  Fireworks, Should We See It from the Side or t...  \n"
          ]
        }
      ]
    },
    {
      "cell_type": "code",
      "source": [
        "df_split.info()"
      ],
      "metadata": {
        "colab": {
          "base_uri": "https://localhost:8080/"
        },
        "id": "DxPpDkH0PWP1",
        "outputId": "e7248f3a-b010-47f0-c5a6-17fd19fd42b3"
      },
      "execution_count": 13,
      "outputs": [
        {
          "output_type": "stream",
          "name": "stdout",
          "text": [
            "<class 'pandas.core.frame.DataFrame'>\n",
            "RangeIndex: 3000 entries, 0 to 2999\n",
            "Data columns (total 3 columns):\n",
            " #   Column     Non-Null Count  Dtype \n",
            "---  ------     --------------  ----- \n",
            " 0   path       3000 non-null   object\n",
            " 1   file_name  3000 non-null   object\n",
            " 2   label      3000 non-null   object\n",
            "dtypes: object(3)\n",
            "memory usage: 70.4+ KB\n"
          ]
        }
      ]
    },
    {
      "cell_type": "code",
      "source": [
        "# Parameter dataset\n",
        "IMG_SIZE = 224\n",
        "BATCH_SIZE = 32\n",
        "NUM_CLASSES = 10\n",
        "EPOCHS = 50"
      ],
      "metadata": {
        "id": "VgE7LsZrj7hf"
      },
      "execution_count": 14,
      "outputs": []
    },
    {
      "cell_type": "code",
      "execution_count": 15,
      "metadata": {
        "id": "UTwK0t8XYAUU",
        "colab": {
          "base_uri": "https://localhost:8080/"
        },
        "outputId": "c7a2467d-9fcf-402e-a36e-b33c2b8c1e2f"
      },
      "outputs": [
        {
          "output_type": "stream",
          "name": "stdout",
          "text": [
            "Found 2160 images belonging to 10 classes.\n",
            "Found 540 images belonging to 10 classes.\n",
            "Found 300 images belonging to 10 classes.\n"
          ]
        }
      ],
      "source": [
        "training_path = \"/content/split_dataset/train\"\n",
        "testing_path = \"/content/split_dataset/test\"\n",
        "\n",
        "img_gen = ImageDataGenerator(\n",
        "    rescale=1./255,\n",
        "    rotation_range=20,\n",
        "    validation_split=0.2,\n",
        "    width_shift_range=0.2,\n",
        "    height_shift_range=0.2,\n",
        "    shear_range=0.2,\n",
        "    zoom_range=0.2,\n",
        "    horizontal_flip=True,\n",
        "    brightness_range=[0.8, 1.2],\n",
        "    fill_mode='nearest'\n",
        ")\n",
        "\n",
        "train_generator = img_gen.flow_from_directory(\n",
        "    training_path,\n",
        "    batch_size=BATCH_SIZE,\n",
        "    target_size=(IMG_SIZE, IMG_SIZE),\n",
        "    class_mode='categorical',\n",
        "    subset='training',\n",
        "    shuffle=True\n",
        ")\n",
        "\n",
        "validation_generator = img_gen.flow_from_directory(\n",
        "    training_path,\n",
        "    batch_size=BATCH_SIZE,\n",
        "    target_size=(IMG_SIZE, IMG_SIZE),\n",
        "    class_mode='categorical',\n",
        "    subset='validation',\n",
        "    shuffle=False\n",
        ")\n",
        "\n",
        "test_generator = img_gen.flow_from_directory(\n",
        "    testing_path,\n",
        "    batch_size=BATCH_SIZE,\n",
        "    target_size=(IMG_SIZE, IMG_SIZE),\n",
        "    class_mode='categorical',\n",
        "    shuffle=False\n",
        ")"
      ]
    },
    {
      "cell_type": "markdown",
      "metadata": {
        "id": "nc-Ph-oIYAUU"
      },
      "source": [
        "## Modelling"
      ]
    },
    {
      "cell_type": "code",
      "source": [
        "def create_mobilenetv2_model():\n",
        "    \"\"\"\n",
        "    Membangun model MobileNetV2 dengan transfer learning\n",
        "    \"\"\"\n",
        "    base_model = MobileNetV2(\n",
        "        weights='imagenet',\n",
        "        include_top=False,\n",
        "        input_shape=(IMG_SIZE, IMG_SIZE, 3)\n",
        "    )\n",
        "\n",
        "    base_model.trainable = False\n",
        "\n",
        "    x = base_model.output\n",
        "    x = GlobalAveragePooling2D()(x)\n",
        "    x = Dropout(0.3)(x)\n",
        "    x = Dense(128, activation='relu')(x)\n",
        "    x = Dropout(0.3)(x)\n",
        "    predictions = Dense(NUM_CLASSES, activation='softmax')(x)\n",
        "\n",
        "    model = Model(inputs=base_model.input, outputs=predictions)\n",
        "\n",
        "    return model, base_model\n",
        "\n",
        "model, base_model = create_mobilenetv2_model()\n",
        "\n",
        "# Compile model\n",
        "model.compile(\n",
        "    optimizer=Adam(learning_rate=0.001),\n",
        "    loss='categorical_crossentropy',\n",
        "    metrics=['accuracy']\n",
        ")"
      ],
      "metadata": {
        "id": "I2X2XySJY9BM",
        "colab": {
          "base_uri": "https://localhost:8080/"
        },
        "outputId": "ba07a508-30ee-4b14-c709-4193ac6dfce9"
      },
      "execution_count": 16,
      "outputs": [
        {
          "output_type": "stream",
          "name": "stdout",
          "text": [
            "Downloading data from https://storage.googleapis.com/tensorflow/keras-applications/mobilenet_v2/mobilenet_v2_weights_tf_dim_ordering_tf_kernels_1.0_224_no_top.h5\n",
            "\u001b[1m9406464/9406464\u001b[0m \u001b[32m━━━━━━━━━━━━━━━━━━━━\u001b[0m\u001b[37m\u001b[0m \u001b[1m1s\u001b[0m 0us/step\n"
          ]
        }
      ]
    },
    {
      "cell_type": "code",
      "source": [
        "class myCallback(Callback):\n",
        "    def on_epoch_end(self, epoch, logs=None):\n",
        "        if logs.get('accuracy') > 0.97 and logs.get('val_accuracy') > 0.97:\n",
        "            print(\"\\nAkurasi pelatihan dan validasi telah mencapai >97%! Pelatihan dihentikan.\")\n",
        "            self.model.stop_training = True\n",
        "\n",
        "class EarlyStoppingAlert(Callback):\n",
        "    def on_epoch_end(self, epoch, logs=None):\n",
        "        if self.model.stop_training:\n",
        "            print(f\"\\nEarly stopping triggered at epoch {epoch + 1}\")\n",
        "\n",
        "early_stopping = EarlyStopping(\n",
        "    monitor='val_loss',\n",
        "    patience=10,\n",
        "    restore_best_weights=True,\n",
        ")\n",
        "\n",
        "reduce_lr = ReduceLROnPlateau(\n",
        "    monitor='val_loss',\n",
        "    factor=0.2,\n",
        "    patience=5,\n",
        "    min_lr=1e-6,\n",
        "    verbose=1\n",
        ")\n",
        "\n",
        "callback_list = [\n",
        "    myCallback(),\n",
        "    EarlyStoppingAlert(),\n",
        "    early_stopping,\n",
        "    reduce_lr,\n",
        "]"
      ],
      "metadata": {
        "id": "VHqvGL-CedX8"
      },
      "execution_count": 17,
      "outputs": []
    },
    {
      "cell_type": "code",
      "source": [
        "history = model.fit(\n",
        "    train_generator,\n",
        "    epochs=EPOCHS,\n",
        "    validation_data=validation_generator,\n",
        "    callbacks=callback_list,\n",
        "    verbose=1\n",
        ")"
      ],
      "metadata": {
        "colab": {
          "base_uri": "https://localhost:8080/"
        },
        "id": "HHMKbNZzk4oE",
        "outputId": "4c2a134b-0c62-44b6-81bf-efef197190d2"
      },
      "execution_count": 18,
      "outputs": [
        {
          "output_type": "stream",
          "name": "stderr",
          "text": [
            "/usr/local/lib/python3.11/dist-packages/keras/src/trainers/data_adapters/py_dataset_adapter.py:121: UserWarning: Your `PyDataset` class should call `super().__init__(**kwargs)` in its constructor. `**kwargs` can include `workers`, `use_multiprocessing`, `max_queue_size`. Do not pass these arguments to `fit()`, as they will be ignored.\n",
            "  self._warn_if_super_not_called()\n"
          ]
        },
        {
          "output_type": "stream",
          "name": "stdout",
          "text": [
            "Epoch 1/50\n",
            "\u001b[1m68/68\u001b[0m \u001b[32m━━━━━━━━━━━━━━━━━━━━\u001b[0m\u001b[37m\u001b[0m \u001b[1m72s\u001b[0m 862ms/step - accuracy: 0.1626 - loss: 2.4995 - val_accuracy: 0.3500 - val_loss: 1.8073 - learning_rate: 0.0010\n",
            "Epoch 2/50\n",
            "\u001b[1m68/68\u001b[0m \u001b[32m━━━━━━━━━━━━━━━━━━━━\u001b[0m\u001b[37m\u001b[0m \u001b[1m47s\u001b[0m 692ms/step - accuracy: 0.3563 - loss: 1.8298 - val_accuracy: 0.4574 - val_loss: 1.5024 - learning_rate: 0.0010\n",
            "Epoch 3/50\n",
            "\u001b[1m68/68\u001b[0m \u001b[32m━━━━━━━━━━━━━━━━━━━━\u001b[0m\u001b[37m\u001b[0m \u001b[1m45s\u001b[0m 663ms/step - accuracy: 0.4517 - loss: 1.5417 - val_accuracy: 0.5019 - val_loss: 1.3846 - learning_rate: 0.0010\n",
            "Epoch 4/50\n",
            "\u001b[1m68/68\u001b[0m \u001b[32m━━━━━━━━━━━━━━━━━━━━\u001b[0m\u001b[37m\u001b[0m \u001b[1m47s\u001b[0m 687ms/step - accuracy: 0.4932 - loss: 1.4630 - val_accuracy: 0.5259 - val_loss: 1.3361 - learning_rate: 0.0010\n",
            "Epoch 5/50\n",
            "\u001b[1m68/68\u001b[0m \u001b[32m━━━━━━━━━━━━━━━━━━━━\u001b[0m\u001b[37m\u001b[0m \u001b[1m47s\u001b[0m 691ms/step - accuracy: 0.5179 - loss: 1.3545 - val_accuracy: 0.5556 - val_loss: 1.2659 - learning_rate: 0.0010\n",
            "Epoch 6/50\n",
            "\u001b[1m68/68\u001b[0m \u001b[32m━━━━━━━━━━━━━━━━━━━━\u001b[0m\u001b[37m\u001b[0m \u001b[1m47s\u001b[0m 689ms/step - accuracy: 0.5723 - loss: 1.2264 - val_accuracy: 0.5667 - val_loss: 1.2482 - learning_rate: 0.0010\n",
            "Epoch 7/50\n",
            "\u001b[1m68/68\u001b[0m \u001b[32m━━━━━━━━━━━━━━━━━━━━\u001b[0m\u001b[37m\u001b[0m \u001b[1m46s\u001b[0m 677ms/step - accuracy: 0.5721 - loss: 1.2468 - val_accuracy: 0.5667 - val_loss: 1.2067 - learning_rate: 0.0010\n",
            "Epoch 8/50\n",
            "\u001b[1m68/68\u001b[0m \u001b[32m━━━━━━━━━━━━━━━━━━━━\u001b[0m\u001b[37m\u001b[0m \u001b[1m48s\u001b[0m 700ms/step - accuracy: 0.5740 - loss: 1.2075 - val_accuracy: 0.5537 - val_loss: 1.2009 - learning_rate: 0.0010\n",
            "Epoch 9/50\n",
            "\u001b[1m68/68\u001b[0m \u001b[32m━━━━━━━━━━━━━━━━━━━━\u001b[0m\u001b[37m\u001b[0m \u001b[1m47s\u001b[0m 691ms/step - accuracy: 0.5772 - loss: 1.1679 - val_accuracy: 0.5463 - val_loss: 1.2057 - learning_rate: 0.0010\n",
            "Epoch 10/50\n",
            "\u001b[1m68/68\u001b[0m \u001b[32m━━━━━━━━━━━━━━━━━━━━\u001b[0m\u001b[37m\u001b[0m \u001b[1m47s\u001b[0m 691ms/step - accuracy: 0.5938 - loss: 1.1180 - val_accuracy: 0.5685 - val_loss: 1.1762 - learning_rate: 0.0010\n",
            "Epoch 11/50\n",
            "\u001b[1m68/68\u001b[0m \u001b[32m━━━━━━━━━━━━━━━━━━━━\u001b[0m\u001b[37m\u001b[0m \u001b[1m47s\u001b[0m 698ms/step - accuracy: 0.5955 - loss: 1.1368 - val_accuracy: 0.5759 - val_loss: 1.1677 - learning_rate: 0.0010\n",
            "Epoch 12/50\n",
            "\u001b[1m68/68\u001b[0m \u001b[32m━━━━━━━━━━━━━━━━━━━━\u001b[0m\u001b[37m\u001b[0m \u001b[1m45s\u001b[0m 663ms/step - accuracy: 0.6174 - loss: 1.0739 - val_accuracy: 0.5852 - val_loss: 1.1711 - learning_rate: 0.0010\n",
            "Epoch 13/50\n",
            "\u001b[1m68/68\u001b[0m \u001b[32m━━━━━━━━━━━━━━━━━━━━\u001b[0m\u001b[37m\u001b[0m \u001b[1m46s\u001b[0m 685ms/step - accuracy: 0.6408 - loss: 1.0362 - val_accuracy: 0.6130 - val_loss: 1.1153 - learning_rate: 0.0010\n",
            "Epoch 14/50\n",
            "\u001b[1m68/68\u001b[0m \u001b[32m━━━━━━━━━━━━━━━━━━━━\u001b[0m\u001b[37m\u001b[0m \u001b[1m48s\u001b[0m 704ms/step - accuracy: 0.6314 - loss: 1.0132 - val_accuracy: 0.6000 - val_loss: 1.1599 - learning_rate: 0.0010\n",
            "Epoch 15/50\n",
            "\u001b[1m68/68\u001b[0m \u001b[32m━━━━━━━━━━━━━━━━━━━━\u001b[0m\u001b[37m\u001b[0m \u001b[1m47s\u001b[0m 690ms/step - accuracy: 0.6687 - loss: 0.9760 - val_accuracy: 0.6000 - val_loss: 1.0985 - learning_rate: 0.0010\n",
            "Epoch 16/50\n",
            "\u001b[1m68/68\u001b[0m \u001b[32m━━━━━━━━━━━━━━━━━━━━\u001b[0m\u001b[37m\u001b[0m \u001b[1m46s\u001b[0m 677ms/step - accuracy: 0.6605 - loss: 0.9609 - val_accuracy: 0.6241 - val_loss: 1.1098 - learning_rate: 0.0010\n",
            "Epoch 17/50\n",
            "\u001b[1m68/68\u001b[0m \u001b[32m━━━━━━━━━━━━━━━━━━━━\u001b[0m\u001b[37m\u001b[0m \u001b[1m47s\u001b[0m 693ms/step - accuracy: 0.6435 - loss: 0.9920 - val_accuracy: 0.5907 - val_loss: 1.1416 - learning_rate: 0.0010\n",
            "Epoch 18/50\n",
            "\u001b[1m68/68\u001b[0m \u001b[32m━━━━━━━━━━━━━━━━━━━━\u001b[0m\u001b[37m\u001b[0m \u001b[1m47s\u001b[0m 693ms/step - accuracy: 0.6678 - loss: 0.9794 - val_accuracy: 0.5907 - val_loss: 1.1021 - learning_rate: 0.0010\n",
            "Epoch 19/50\n",
            "\u001b[1m68/68\u001b[0m \u001b[32m━━━━━━━━━━━━━━━━━━━━\u001b[0m\u001b[37m\u001b[0m \u001b[1m46s\u001b[0m 678ms/step - accuracy: 0.6741 - loss: 0.9321 - val_accuracy: 0.5944 - val_loss: 1.1274 - learning_rate: 0.0010\n",
            "Epoch 20/50\n",
            "\u001b[1m68/68\u001b[0m \u001b[32m━━━━━━━━━━━━━━━━━━━━\u001b[0m\u001b[37m\u001b[0m \u001b[1m0s\u001b[0m 555ms/step - accuracy: 0.6792 - loss: 0.9168\n",
            "Epoch 20: ReduceLROnPlateau reducing learning rate to 0.00020000000949949026.\n",
            "\u001b[1m68/68\u001b[0m \u001b[32m━━━━━━━━━━━━━━━━━━━━\u001b[0m\u001b[37m\u001b[0m \u001b[1m46s\u001b[0m 682ms/step - accuracy: 0.6791 - loss: 0.9168 - val_accuracy: 0.6093 - val_loss: 1.1003 - learning_rate: 0.0010\n",
            "Epoch 21/50\n",
            "\u001b[1m68/68\u001b[0m \u001b[32m━━━━━━━━━━━━━━━━━━━━\u001b[0m\u001b[37m\u001b[0m \u001b[1m46s\u001b[0m 672ms/step - accuracy: 0.6959 - loss: 0.8908 - val_accuracy: 0.6093 - val_loss: 1.1005 - learning_rate: 2.0000e-04\n",
            "Epoch 22/50\n",
            "\u001b[1m68/68\u001b[0m \u001b[32m━━━━━━━━━━━━━━━━━━━━\u001b[0m\u001b[37m\u001b[0m \u001b[1m46s\u001b[0m 680ms/step - accuracy: 0.7064 - loss: 0.8409 - val_accuracy: 0.6111 - val_loss: 1.0792 - learning_rate: 2.0000e-04\n",
            "Epoch 23/50\n",
            "\u001b[1m68/68\u001b[0m \u001b[32m━━━━━━━━━━━━━━━━━━━━\u001b[0m\u001b[37m\u001b[0m \u001b[1m46s\u001b[0m 677ms/step - accuracy: 0.7290 - loss: 0.8120 - val_accuracy: 0.6241 - val_loss: 1.0441 - learning_rate: 2.0000e-04\n",
            "Epoch 24/50\n",
            "\u001b[1m68/68\u001b[0m \u001b[32m━━━━━━━━━━━━━━━━━━━━\u001b[0m\u001b[37m\u001b[0m \u001b[1m83s\u001b[0m 695ms/step - accuracy: 0.6991 - loss: 0.8538 - val_accuracy: 0.5815 - val_loss: 1.0967 - learning_rate: 2.0000e-04\n",
            "Epoch 25/50\n",
            "\u001b[1m68/68\u001b[0m \u001b[32m━━━━━━━━━━━━━━━━━━━━\u001b[0m\u001b[37m\u001b[0m \u001b[1m46s\u001b[0m 674ms/step - accuracy: 0.7152 - loss: 0.8407 - val_accuracy: 0.6204 - val_loss: 1.0554 - learning_rate: 2.0000e-04\n",
            "Epoch 26/50\n",
            "\u001b[1m68/68\u001b[0m \u001b[32m━━━━━━━━━━━━━━━━━━━━\u001b[0m\u001b[37m\u001b[0m \u001b[1m46s\u001b[0m 682ms/step - accuracy: 0.7078 - loss: 0.8533 - val_accuracy: 0.6241 - val_loss: 1.0553 - learning_rate: 2.0000e-04\n",
            "Epoch 27/50\n",
            "\u001b[1m68/68\u001b[0m \u001b[32m━━━━━━━━━━━━━━━━━━━━\u001b[0m\u001b[37m\u001b[0m \u001b[1m46s\u001b[0m 683ms/step - accuracy: 0.7207 - loss: 0.8237 - val_accuracy: 0.6093 - val_loss: 1.0824 - learning_rate: 2.0000e-04\n",
            "Epoch 28/50\n",
            "\u001b[1m68/68\u001b[0m \u001b[32m━━━━━━━━━━━━━━━━━━━━\u001b[0m\u001b[37m\u001b[0m \u001b[1m47s\u001b[0m 694ms/step - accuracy: 0.7137 - loss: 0.8251 - val_accuracy: 0.6019 - val_loss: 1.0272 - learning_rate: 2.0000e-04\n",
            "Epoch 29/50\n",
            "\u001b[1m68/68\u001b[0m \u001b[32m━━━━━━━━━━━━━━━━━━━━\u001b[0m\u001b[37m\u001b[0m \u001b[1m45s\u001b[0m 667ms/step - accuracy: 0.7305 - loss: 0.7834 - val_accuracy: 0.6463 - val_loss: 1.0369 - learning_rate: 2.0000e-04\n",
            "Epoch 30/50\n",
            "\u001b[1m68/68\u001b[0m \u001b[32m━━━━━━━━━━━━━━━━━━━━\u001b[0m\u001b[37m\u001b[0m \u001b[1m46s\u001b[0m 683ms/step - accuracy: 0.7128 - loss: 0.8004 - val_accuracy: 0.6389 - val_loss: 1.0092 - learning_rate: 2.0000e-04\n",
            "Epoch 31/50\n",
            "\u001b[1m68/68\u001b[0m \u001b[32m━━━━━━━━━━━━━━━━━━━━\u001b[0m\u001b[37m\u001b[0m \u001b[1m49s\u001b[0m 721ms/step - accuracy: 0.7009 - loss: 0.8398 - val_accuracy: 0.6093 - val_loss: 1.0210 - learning_rate: 2.0000e-04\n",
            "Epoch 32/50\n",
            "\u001b[1m68/68\u001b[0m \u001b[32m━━━━━━━━━━━━━━━━━━━━\u001b[0m\u001b[37m\u001b[0m \u001b[1m48s\u001b[0m 704ms/step - accuracy: 0.7371 - loss: 0.7536 - val_accuracy: 0.6333 - val_loss: 1.0492 - learning_rate: 2.0000e-04\n",
            "Epoch 33/50\n",
            "\u001b[1m68/68\u001b[0m \u001b[32m━━━━━━━━━━━━━━━━━━━━\u001b[0m\u001b[37m\u001b[0m \u001b[1m47s\u001b[0m 700ms/step - accuracy: 0.7243 - loss: 0.8074 - val_accuracy: 0.6370 - val_loss: 1.0314 - learning_rate: 2.0000e-04\n",
            "Epoch 34/50\n",
            "\u001b[1m68/68\u001b[0m \u001b[32m━━━━━━━━━━━━━━━━━━━━\u001b[0m\u001b[37m\u001b[0m \u001b[1m51s\u001b[0m 753ms/step - accuracy: 0.7320 - loss: 0.7813 - val_accuracy: 0.6574 - val_loss: 1.0055 - learning_rate: 2.0000e-04\n",
            "Epoch 35/50\n",
            "\u001b[1m68/68\u001b[0m \u001b[32m━━━━━━━━━━━━━━━━━━━━\u001b[0m\u001b[37m\u001b[0m \u001b[1m77s\u001b[0m 683ms/step - accuracy: 0.7118 - loss: 0.7985 - val_accuracy: 0.6296 - val_loss: 1.0271 - learning_rate: 2.0000e-04\n",
            "Epoch 36/50\n",
            "\u001b[1m68/68\u001b[0m \u001b[32m━━━━━━━━━━━━━━━━━━━━\u001b[0m\u001b[37m\u001b[0m \u001b[1m47s\u001b[0m 695ms/step - accuracy: 0.7494 - loss: 0.7339 - val_accuracy: 0.6074 - val_loss: 1.0518 - learning_rate: 2.0000e-04\n",
            "Epoch 37/50\n",
            "\u001b[1m68/68\u001b[0m \u001b[32m━━━━━━━━━━━━━━━━━━━━\u001b[0m\u001b[37m\u001b[0m \u001b[1m46s\u001b[0m 673ms/step - accuracy: 0.7296 - loss: 0.7662 - val_accuracy: 0.6074 - val_loss: 1.0396 - learning_rate: 2.0000e-04\n",
            "Epoch 38/50\n",
            "\u001b[1m68/68\u001b[0m \u001b[32m━━━━━━━━━━━━━━━━━━━━\u001b[0m\u001b[37m\u001b[0m \u001b[1m45s\u001b[0m 665ms/step - accuracy: 0.7275 - loss: 0.8034 - val_accuracy: 0.6204 - val_loss: 0.9992 - learning_rate: 2.0000e-04\n",
            "Epoch 39/50\n",
            "\u001b[1m68/68\u001b[0m \u001b[32m━━━━━━━━━━━━━━━━━━━━\u001b[0m\u001b[37m\u001b[0m \u001b[1m82s\u001b[0m 667ms/step - accuracy: 0.7112 - loss: 0.8077 - val_accuracy: 0.6278 - val_loss: 1.0232 - learning_rate: 2.0000e-04\n",
            "Epoch 40/50\n",
            "\u001b[1m68/68\u001b[0m \u001b[32m━━━━━━━━━━━━━━━━━━━━\u001b[0m\u001b[37m\u001b[0m \u001b[1m46s\u001b[0m 680ms/step - accuracy: 0.7323 - loss: 0.7468 - val_accuracy: 0.6333 - val_loss: 1.0714 - learning_rate: 2.0000e-04\n",
            "Epoch 41/50\n",
            "\u001b[1m68/68\u001b[0m \u001b[32m━━━━━━━━━━━━━━━━━━━━\u001b[0m\u001b[37m\u001b[0m \u001b[1m48s\u001b[0m 713ms/step - accuracy: 0.6958 - loss: 0.8238 - val_accuracy: 0.6204 - val_loss: 1.0573 - learning_rate: 2.0000e-04\n",
            "Epoch 42/50\n",
            "\u001b[1m68/68\u001b[0m \u001b[32m━━━━━━━━━━━━━━━━━━━━\u001b[0m\u001b[37m\u001b[0m \u001b[1m46s\u001b[0m 677ms/step - accuracy: 0.7360 - loss: 0.7930 - val_accuracy: 0.6389 - val_loss: 1.0518 - learning_rate: 2.0000e-04\n",
            "Epoch 43/50\n",
            "\u001b[1m68/68\u001b[0m \u001b[32m━━━━━━━━━━━━━━━━━━━━\u001b[0m\u001b[37m\u001b[0m \u001b[1m0s\u001b[0m 538ms/step - accuracy: 0.7216 - loss: 0.7962\n",
            "Epoch 43: ReduceLROnPlateau reducing learning rate to 4.0000001899898055e-05.\n",
            "\u001b[1m68/68\u001b[0m \u001b[32m━━━━━━━━━━━━━━━━━━━━\u001b[0m\u001b[37m\u001b[0m \u001b[1m45s\u001b[0m 664ms/step - accuracy: 0.7216 - loss: 0.7961 - val_accuracy: 0.6222 - val_loss: 1.0594 - learning_rate: 2.0000e-04\n",
            "Epoch 44/50\n",
            "\u001b[1m68/68\u001b[0m \u001b[32m━━━━━━━━━━━━━━━━━━━━\u001b[0m\u001b[37m\u001b[0m \u001b[1m46s\u001b[0m 669ms/step - accuracy: 0.7322 - loss: 0.7707 - val_accuracy: 0.6222 - val_loss: 1.0622 - learning_rate: 4.0000e-05\n",
            "Epoch 45/50\n",
            "\u001b[1m68/68\u001b[0m \u001b[32m━━━━━━━━━━━━━━━━━━━━\u001b[0m\u001b[37m\u001b[0m \u001b[1m46s\u001b[0m 684ms/step - accuracy: 0.7219 - loss: 0.7911 - val_accuracy: 0.6148 - val_loss: 1.0569 - learning_rate: 4.0000e-05\n",
            "Epoch 46/50\n",
            "\u001b[1m68/68\u001b[0m \u001b[32m━━━━━━━━━━━━━━━━━━━━\u001b[0m\u001b[37m\u001b[0m \u001b[1m47s\u001b[0m 688ms/step - accuracy: 0.7556 - loss: 0.7328 - val_accuracy: 0.6741 - val_loss: 0.9861 - learning_rate: 4.0000e-05\n",
            "Epoch 47/50\n",
            "\u001b[1m68/68\u001b[0m \u001b[32m━━━━━━━━━━━━━━━━━━━━\u001b[0m\u001b[37m\u001b[0m \u001b[1m46s\u001b[0m 683ms/step - accuracy: 0.7327 - loss: 0.7912 - val_accuracy: 0.6333 - val_loss: 1.0565 - learning_rate: 4.0000e-05\n",
            "Epoch 48/50\n",
            "\u001b[1m68/68\u001b[0m \u001b[32m━━━━━━━━━━━━━━━━━━━━\u001b[0m\u001b[37m\u001b[0m \u001b[1m46s\u001b[0m 679ms/step - accuracy: 0.7169 - loss: 0.7770 - val_accuracy: 0.6259 - val_loss: 1.0091 - learning_rate: 4.0000e-05\n",
            "Epoch 49/50\n",
            "\u001b[1m68/68\u001b[0m \u001b[32m━━━━━━━━━━━━━━━━━━━━\u001b[0m\u001b[37m\u001b[0m \u001b[1m46s\u001b[0m 678ms/step - accuracy: 0.7357 - loss: 0.7704 - val_accuracy: 0.6407 - val_loss: 1.0247 - learning_rate: 4.0000e-05\n",
            "Epoch 50/50\n",
            "\u001b[1m68/68\u001b[0m \u001b[32m━━━━━━━━━━━━━━━━━━━━\u001b[0m\u001b[37m\u001b[0m \u001b[1m45s\u001b[0m 662ms/step - accuracy: 0.7272 - loss: 0.7723 - val_accuracy: 0.6426 - val_loss: 1.0293 - learning_rate: 4.0000e-05\n"
          ]
        }
      ]
    },
    {
      "cell_type": "markdown",
      "metadata": {
        "id": "XctzCfzbYCBK"
      },
      "source": [
        "## Evaluasi dan Visualisasi"
      ]
    },
    {
      "cell_type": "code",
      "source": [
        "test_loss, test_acc = model.evaluate(test_generator, verbose=2)\n",
        "print('\\nTest accuracy:', test_acc)\n",
        "\n",
        "# Plotting the training and validation accuracy and loss\n",
        "plt.figure(figsize=(12, 4))\n",
        "\n",
        "plt.subplot(1, 2, 1)\n",
        "plt.plot(history.history['accuracy'], label='Training Accuracy')\n",
        "plt.plot(history.history['val_accuracy'], label='Validation Accuracy')\n",
        "plt.title('Training and Validation Accuracy')\n",
        "plt.xlabel('Epoch')\n",
        "plt.ylabel('Accuracy')\n",
        "plt.legend()\n",
        "\n",
        "plt.subplot(1, 2, 2)\n",
        "plt.plot(history.history['loss'], label='Training Loss')\n",
        "plt.plot(history.history['val_loss'], label='Validation Loss')\n",
        "plt.title('Training and Validation Loss')\n",
        "plt.xlabel('Epoch')\n",
        "plt.ylabel('Loss')\n",
        "plt.legend()\n",
        "\n",
        "plt.tight_layout()\n",
        "plt.show()"
      ],
      "metadata": {
        "colab": {
          "base_uri": "https://localhost:8080/",
          "height": 350
        },
        "id": "7F8PPrmSNtoL",
        "outputId": "ae43742c-8e26-4417-f222-058b24522f5a"
      },
      "execution_count": 19,
      "outputs": [
        {
          "output_type": "stream",
          "name": "stdout",
          "text": [
            "10/10 - 8s - 823ms/step - accuracy: 0.6767 - loss: 0.9586\n",
            "\n",
            "Test accuracy: 0.6766666769981384\n"
          ]
        },
        {
          "output_type": "display_data",
          "data": {
            "text/plain": [
              "<Figure size 1200x400 with 2 Axes>"
            ],
            "image/png": "[encoded data removed]"
          },
          "metadata": {}
        }
      ]
    },
    {
      "cell_type": "code",
      "source": [
        "save_path = 'saved_model/'\n",
        "tf.saved_model.save(model, save_path)"
      ],
      "metadata": {
        "id": "yHOLmz-RQe_Y"
      },
      "execution_count": 20,
      "outputs": []
    },
    {
      "cell_type": "code",
      "source": [
        "model.save('animelens_model.h5')"
      ],
      "metadata": {
        "colab": {
          "base_uri": "https://localhost:8080/"
        },
        "id": "RkBnQs9OQ68b",
        "outputId": "ba9adace-f0a7-46e6-8a16-8e99a68278ac"
      },
      "execution_count": 21,
      "outputs": [
        {
          "output_type": "stream",
          "name": "stderr",
          "text": [
            "WARNING:absl:You are saving your model as an HDF5 file via `model.save()` or `keras.saving.save_model(model)`. This file format is considered legacy. We recommend using instead the native Keras format, e.g. `model.save('my_model.keras')` or `keras.saving.save_model(model, 'my_model.keras')`. \n"
          ]
        }
      ]
    },
    {
      "cell_type": "markdown",
      "metadata": {
        "id": "y_fIsUogYFSk"
      },
      "source": [
        "## Konversi Model"
      ]
    },
    {
      "cell_type": "code",
      "source": [
        "# Convert to TFJS\n",
        "!pip install tensorflowjs"
      ],
      "metadata": {
        "colab": {
          "base_uri": "https://localhost:8080/"
        },
        "id": "CHHIHpBQQ726",
        "outputId": "d81b2e5c-5840-4c8d-f23a-b6746e498eca"
      },
      "execution_count": 22,
      "outputs": [
        {
          "output_type": "stream",
          "name": "stdout",
          "text": [
            "Collecting tensorflowjs\n",
            "  Downloading tensorflowjs-4.22.0-py3-none-any.whl.metadata (3.2 kB)\n",
            "Requirement already satisfied: flax>=0.7.2 in /usr/local/lib/python3.11/dist-packages (from tensorflowjs) (0.10.6)\n",
            "Requirement already satisfied: importlib_resources>=5.9.0 in /usr/local/lib/python3.11/dist-packages (from tensorflowjs) (6.5.2)\n",
            "Requirement already satisfied: jax>=0.4.13 in /usr/local/lib/python3.11/dist-packages (from tensorflowjs) (0.5.2)\n",
            "Requirement already satisfied: jaxlib>=0.4.13 in /usr/local/lib/python3.11/dist-packages (from tensorflowjs) (0.5.1)\n",
            "Requirement already satisfied: tensorflow<3,>=2.13.0 in /usr/local/lib/python3.11/dist-packages (from tensorflowjs) (2.18.0)\n",
            "Requirement already satisfied: tf-keras>=2.13.0 in /usr/local/lib/python3.11/dist-packages (from tensorflowjs) (2.18.0)\n",
            "Requirement already satisfied: tensorflow-decision-forests>=1.5.0 in /usr/local/lib/python3.11/dist-packages (from tensorflowjs) (1.11.0)\n",
            "Requirement already satisfied: six<2,>=1.16.0 in /usr/local/lib/python3.11/dist-packages (from tensorflowjs) (1.17.0)\n",
            "Requirement already satisfied: tensorflow-hub>=0.16.1 in /usr/local/lib/python3.11/dist-packages (from tensorflowjs) (0.16.1)\n",
            "Collecting packaging~=23.1 (from tensorflowjs)\n",
            "  Downloading packaging-23.2-py3-none-any.whl.metadata (3.2 kB)\n",
            "Requirement already satisfied: numpy>=1.23.2 in /usr/local/lib/python3.11/dist-packages (from flax>=0.7.2->tensorflowjs) (2.0.2)\n",
            "Requirement already satisfied: msgpack in /usr/local/lib/python3.11/dist-packages (from flax>=0.7.2->tensorflowjs) (1.1.0)\n",
            "Requirement already satisfied: optax in /usr/local/lib/python3.11/dist-packages (from flax>=0.7.2->tensorflowjs) (0.2.4)\n",
            "Requirement already satisfied: orbax-checkpoint in /usr/local/lib/python3.11/dist-packages (from flax>=0.7.2->tensorflowjs) (0.11.13)\n",
            "Requirement already satisfied: tensorstore in /usr/local/lib/python3.11/dist-packages (from flax>=0.7.2->tensorflowjs) (0.1.74)\n",
            "Requirement already satisfied: rich>=11.1 in /usr/local/lib/python3.11/dist-packages (from flax>=0.7.2->tensorflowjs) (13.9.4)\n",
            "Requirement already satisfied: typing_extensions>=4.2 in /usr/local/lib/python3.11/dist-packages (from flax>=0.7.2->tensorflowjs) (4.13.2)\n",
            "Requirement already satisfied: PyYAML>=5.4.1 in /usr/local/lib/python3.11/dist-packages (from flax>=0.7.2->tensorflowjs) (6.0.2)\n",
            "Requirement already satisfied: treescope>=0.1.7 in /usr/local/lib/python3.11/dist-packages (from flax>=0.7.2->tensorflowjs) (0.1.9)\n",
            "Requirement already satisfied: ml_dtypes>=0.4.0 in /usr/local/lib/python3.11/dist-packages (from jax>=0.4.13->tensorflowjs) (0.4.1)\n",
            "Requirement already satisfied: opt_einsum in /usr/local/lib/python3.11/dist-packages (from jax>=0.4.13->tensorflowjs) (3.4.0)\n",
            "Requirement already satisfied: scipy>=1.11.1 in /usr/local/lib/python3.11/dist-packages (from jax>=0.4.13->tensorflowjs) (1.15.3)\n",
            "Requirement already satisfied: absl-py>=1.0.0 in /usr/local/lib/python3.11/dist-packages (from tensorflow<3,>=2.13.0->tensorflowjs) (1.4.0)\n",
            "Requirement already satisfied: astunparse>=1.6.0 in /usr/local/lib/python3.11/dist-packages (from tensorflow<3,>=2.13.0->tensorflowjs) (1.6.3)\n",
            "Requirement already satisfied: flatbuffers>=24.3.25 in /usr/local/lib/python3.11/dist-packages (from tensorflow<3,>=2.13.0->tensorflowjs) (25.2.10)\n",
            "Requirement already satisfied: gast!=0.5.0,!=0.5.1,!=0.5.2,>=0.2.1 in /usr/local/lib/python3.11/dist-packages (from tensorflow<3,>=2.13.0->tensorflowjs) (0.6.0)\n",
            "Requirement already satisfied: google-pasta>=0.1.1 in /usr/local/lib/python3.11/dist-packages (from tensorflow<3,>=2.13.0->tensorflowjs) (0.2.0)\n",
            "Requirement already satisfied: libclang>=13.0.0 in /usr/local/lib/python3.11/dist-packages (from tensorflow<3,>=2.13.0->tensorflowjs) (18.1.1)\n",
            "Requirement already satisfied: protobuf!=4.21.0,!=4.21.1,!=4.21.2,!=4.21.3,!=4.21.4,!=4.21.5,<6.0.0dev,>=3.20.3 in /usr/local/lib/python3.11/dist-packages (from tensorflow<3,>=2.13.0->tensorflowjs) (5.29.5)\n",
            "Requirement already satisfied: requests<3,>=2.21.0 in /usr/local/lib/python3.11/dist-packages (from tensorflow<3,>=2.13.0->tensorflowjs) (2.32.3)\n",
            "Requirement already satisfied: setuptools in /usr/local/lib/python3.11/dist-packages (from tensorflow<3,>=2.13.0->tensorflowjs) (75.2.0)\n",
            "Requirement already satisfied: termcolor>=1.1.0 in /usr/local/lib/python3.11/dist-packages (from tensorflow<3,>=2.13.0->tensorflowjs) (3.1.0)\n",
            "Requirement already satisfied: wrapt>=1.11.0 in /usr/local/lib/python3.11/dist-packages (from tensorflow<3,>=2.13.0->tensorflowjs) (1.17.2)\n",
            "Requirement already satisfied: grpcio<2.0,>=1.24.3 in /usr/local/lib/python3.11/dist-packages (from tensorflow<3,>=2.13.0->tensorflowjs) (1.71.0)\n",
            "Requirement already satisfied: tensorboard<2.19,>=2.18 in /usr/local/lib/python3.11/dist-packages (from tensorflow<3,>=2.13.0->tensorflowjs) (2.18.0)\n",
            "Requirement already satisfied: keras>=3.5.0 in /usr/local/lib/python3.11/dist-packages (from tensorflow<3,>=2.13.0->tensorflowjs) (3.8.0)\n",
            "Requirement already satisfied: h5py>=3.11.0 in /usr/local/lib/python3.11/dist-packages (from tensorflow<3,>=2.13.0->tensorflowjs) (3.13.0)\n",
            "Requirement already satisfied: tensorflow-io-gcs-filesystem>=0.23.1 in /usr/local/lib/python3.11/dist-packages (from tensorflow<3,>=2.13.0->tensorflowjs) (0.37.1)\n",
            "Requirement already satisfied: pandas in /usr/local/lib/python3.11/dist-packages (from tensorflow-decision-forests>=1.5.0->tensorflowjs) (2.2.2)\n",
            "Requirement already satisfied: wheel in /usr/local/lib/python3.11/dist-packages (from tensorflow-decision-forests>=1.5.0->tensorflowjs) (0.45.1)\n",
            "Requirement already satisfied: wurlitzer in /usr/local/lib/python3.11/dist-packages (from tensorflow-decision-forests>=1.5.0->tensorflowjs) (3.1.1)\n",
            "Requirement already satisfied: ydf in /usr/local/lib/python3.11/dist-packages (from tensorflow-decision-forests>=1.5.0->tensorflowjs) (0.12.0)\n",
            "Requirement already satisfied: namex in /usr/local/lib/python3.11/dist-packages (from keras>=3.5.0->tensorflow<3,>=2.13.0->tensorflowjs) (0.1.0)\n",
            "Requirement already satisfied: optree in /usr/local/lib/python3.11/dist-packages (from keras>=3.5.0->tensorflow<3,>=2.13.0->tensorflowjs) (0.16.0)\n",
            "Requirement already satisfied: charset-normalizer<4,>=2 in /usr/local/lib/python3.11/dist-packages (from requests<3,>=2.21.0->tensorflow<3,>=2.13.0->tensorflowjs) (3.4.2)\n",
            "Requirement already satisfied: idna<4,>=2.5 in /usr/local/lib/python3.11/dist-packages (from requests<3,>=2.21.0->tensorflow<3,>=2.13.0->tensorflowjs) (3.10)\n",
            "Requirement already satisfied: urllib3<3,>=1.21.1 in /usr/local/lib/python3.11/dist-packages (from requests<3,>=2.21.0->tensorflow<3,>=2.13.0->tensorflowjs) (2.4.0)\n",
            "Requirement already satisfied: certifi>=2017.4.17 in /usr/local/lib/python3.11/dist-packages (from requests<3,>=2.21.0->tensorflow<3,>=2.13.0->tensorflowjs) (2025.4.26)\n",
            "Requirement already satisfied: markdown-it-py>=2.2.0 in /usr/local/lib/python3.11/dist-packages (from rich>=11.1->flax>=0.7.2->tensorflowjs) (3.0.0)\n",
            "Requirement already satisfied: pygments<3.0.0,>=2.13.0 in /usr/local/lib/python3.11/dist-packages (from rich>=11.1->flax>=0.7.2->tensorflowjs) (2.19.1)\n",
            "Requirement already satisfied: markdown>=2.6.8 in /usr/local/lib/python3.11/dist-packages (from tensorboard<2.19,>=2.18->tensorflow<3,>=2.13.0->tensorflowjs) (3.8)\n",
            "Requirement already satisfied: tensorboard-data-server<0.8.0,>=0.7.0 in /usr/local/lib/python3.11/dist-packages (from tensorboard<2.19,>=2.18->tensorflow<3,>=2.13.0->tensorflowjs) (0.7.2)\n",
            "Requirement already satisfied: werkzeug>=1.0.1 in /usr/local/lib/python3.11/dist-packages (from tensorboard<2.19,>=2.18->tensorflow<3,>=2.13.0->tensorflowjs) (3.1.3)\n",
            "Requirement already satisfied: chex>=0.1.87 in /usr/local/lib/python3.11/dist-packages (from optax->flax>=0.7.2->tensorflowjs) (0.1.89)\n",
            "Requirement already satisfied: etils[epy] in /usr/local/lib/python3.11/dist-packages (from optax->flax>=0.7.2->tensorflowjs) (1.12.2)\n",
            "Requirement already satisfied: nest_asyncio in /usr/local/lib/python3.11/dist-packages (from orbax-checkpoint->flax>=0.7.2->tensorflowjs) (1.6.0)\n",
            "Requirement already satisfied: humanize in /usr/local/lib/python3.11/dist-packages (from orbax-checkpoint->flax>=0.7.2->tensorflowjs) (4.12.3)\n",
            "Requirement already satisfied: simplejson>=3.16.0 in /usr/local/lib/python3.11/dist-packages (from orbax-checkpoint->flax>=0.7.2->tensorflowjs) (3.20.1)\n",
            "Requirement already satisfied: python-dateutil>=2.8.2 in /usr/local/lib/python3.11/dist-packages (from pandas->tensorflow-decision-forests>=1.5.0->tensorflowjs) (2.9.0.post0)\n",
            "Requirement already satisfied: pytz>=2020.1 in /usr/local/lib/python3.11/dist-packages (from pandas->tensorflow-decision-forests>=1.5.0->tensorflowjs) (2025.2)\n",
            "Requirement already satisfied: tzdata>=2022.7 in /usr/local/lib/python3.11/dist-packages (from pandas->tensorflow-decision-forests>=1.5.0->tensorflowjs) (2025.2)\n",
            "Requirement already satisfied: toolz>=0.9.0 in /usr/local/lib/python3.11/dist-packages (from chex>=0.1.87->optax->flax>=0.7.2->tensorflowjs) (0.12.1)\n",
            "Requirement already satisfied: mdurl~=0.1 in /usr/local/lib/python3.11/dist-packages (from markdown-it-py>=2.2.0->rich>=11.1->flax>=0.7.2->tensorflowjs) (0.1.2)\n",
            "Requirement already satisfied: MarkupSafe>=2.1.1 in /usr/local/lib/python3.11/dist-packages (from werkzeug>=1.0.1->tensorboard<2.19,>=2.18->tensorflow<3,>=2.13.0->tensorflowjs) (3.0.2)\n",
            "Requirement already satisfied: fsspec in /usr/local/lib/python3.11/dist-packages (from etils[epath,epy]->orbax-checkpoint->flax>=0.7.2->tensorflowjs) (2025.3.2)\n",
            "Requirement already satisfied: zipp in /usr/local/lib/python3.11/dist-packages (from etils[epath,epy]->orbax-checkpoint->flax>=0.7.2->tensorflowjs) (3.22.0)\n",
            "Downloading tensorflowjs-4.22.0-py3-none-any.whl (89 kB)\n",
            "\u001b[2K   \u001b[90m━━━━━━━━━━━━━━━━━━━━━━━━━━━━━━━━━━━━━━━━\u001b[0m \u001b[32m89.1/89.1 kB\u001b[0m \u001b[31m4.7 MB/s\u001b[0m eta \u001b[36m0:00:00\u001b[0m\n",
            "\u001b[?25hDownloading packaging-23.2-py3-none-any.whl (53 kB)\n",
            "\u001b[2K   \u001b[90m━━━━━━━━━━━━━━━━━━━━━━━━━━━━━━━━━━━━━━━━\u001b[0m \u001b[32m53.0/53.0 kB\u001b[0m \u001b[31m3.9 MB/s\u001b[0m eta \u001b[36m0:00:00\u001b[0m\n",
            "\u001b[?25hInstalling collected packages: packaging, tensorflowjs\n",
            "  Attempting uninstall: packaging\n",
            "    Found existing installation: packaging 24.2\n",
            "    Uninstalling packaging-24.2:\n",
            "      Successfully uninstalled packaging-24.2\n",
            "\u001b[31mERROR: pip's dependency resolver does not currently take into account all the packages that are installed. This behaviour is the source of the following dependency conflicts.\n",
            "db-dtypes 1.4.3 requires packaging>=24.2.0, but you have packaging 23.2 which is incompatible.\n",
            "google-cloud-bigquery 3.34.0 requires packaging>=24.2.0, but you have packaging 23.2 which is incompatible.\u001b[0m\u001b[31m\n",
            "\u001b[0mSuccessfully installed packaging-23.2 tensorflowjs-4.22.0\n"
          ]
        }
      ]
    },
    {
      "cell_type": "code",
      "source": [
        "!tensorflowjs_converter --input_format=tf_saved_model saved_model/ ./tfjs_model"
      ],
      "metadata": {
        "colab": {
          "base_uri": "https://localhost:8080/"
        },
        "id": "Jj8rC4RcRBb_",
        "outputId": "d1f0b81c-bf1e-44db-fe0a-242abafbcfe3"
      },
      "execution_count": 23,
      "outputs": [
        {
          "output_type": "stream",
          "name": "stdout",
          "text": [
            "2025-06-04 09:43:58.219052: E external/local_xla/xla/stream_executor/cuda/cuda_fft.cc:477] Unable to register cuFFT factory: Attempting to register factory for plugin cuFFT when one has already been registered\n",
            "WARNING: All log messages before absl::InitializeLog() is called are written to STDERR\n",
            "E0000 00:00:1749030238.240315   13775 cuda_dnn.cc:8310] Unable to register cuDNN factory: Attempting to register factory for plugin cuDNN when one has already been registered\n",
            "E0000 00:00:1749030238.246507   13775 cuda_blas.cc:1418] Unable to register cuBLAS factory: Attempting to register factory for plugin cuBLAS when one has already been registered\n",
            "\u001b[32m🌲 Try \u001b[0m\u001b[34mhttps://ydf.readthedocs.io\u001b[0m\u001b[32m, the successor of TensorFlow Decision Forests with more features and faster training!\u001b[0m\n",
            "2025-06-04 09:44:06.290552: W tensorflow/core/common_runtime/gpu/gpu_bfc_allocator.cc:47] Overriding orig_value setting because the TF_FORCE_GPU_ALLOW_GROWTH environment variable is set. Original config value was 0.\n",
            "I0000 00:00:1749030246.290758   13775 gpu_device.cc:2022] Created device /job:localhost/replica:0/task:0/device:GPU:0 with 12802 MB memory:  -> device: 0, name: Tesla T4, pci bus id: 0000:00:04.0, compute capability: 7.5\n",
            "I0000 00:00:1749030249.974685   13775 devices.cc:67] Number of eligible GPUs (core count >= 8, compute capability >= 0.0): 1\n",
            "WARNING: All log messages before absl::InitializeLog() is called are written to STDERR\n",
            "I0000 00:00:1749030249.974980   13775 single_machine.cc:361] Starting new session\n",
            "I0000 00:00:1749030249.976362   13775 gpu_device.cc:2022] Created device /job:localhost/replica:0/task:0/device:GPU:0 with 12802 MB memory:  -> device: 0, name: Tesla T4, pci bus id: 0000:00:04.0, compute capability: 7.5\n"
          ]
        }
      ]
    },
    {
      "cell_type": "markdown",
      "source": [
        "## Inference (Optional)"
      ],
      "metadata": {
        "id": "8DbfEwvvm5U4"
      }
    },
    {
      "cell_type": "code",
      "source": [
        "import zipfile\n",
        "\n",
        "def zip_folders(folder_paths, zip_filename):\n",
        "  with zipfile.ZipFile(zip_filename, 'w', zipfile.ZIP_DEFLATED) as zipf:\n",
        "    for folder_path in folder_paths:\n",
        "      for root, _, files in os.walk(folder_path):\n",
        "        for file in files:\n",
        "          file_path = os.path.join(root, file)\n",
        "          zipf.write(file_path, arcname=os.path.relpath(file_path, folder_path))\n",
        "\n",
        "# Example usage:\n",
        "zip_folders(['/content/split_dataset'], 'split.zip')"
      ],
      "metadata": {
        "id": "N1QCFtIZbR8N"
      },
      "execution_count": null,
      "outputs": []
    },
    {
      "cell_type": "code",
      "source": [
        "def zip_folders(folder_paths, zip_filename):\n",
        "  with zipfile.ZipFile(zip_filename, 'w', zipfile.ZIP_DEFLATED) as zipf:\n",
        "    for folder_path in folder_paths:\n",
        "      for root, _, files in os.walk(folder_path):\n",
        "        for file in files:\n",
        "          file_path = os.path.join(root, file)\n",
        "          zipf.write(file_path, arcname=os.path.relpath(file_path, folder_path))\n",
        "\n",
        "# Example usage:\n",
        "zip_folders(['/content/saved_model'], 'model.zip')"
      ],
      "metadata": {
        "id": "QCpax45wQRqk"
      },
      "execution_count": 25,
      "outputs": []
    },
    {
      "cell_type": "code",
      "source": [
        "def zip_folders(folder_paths, zip_filename):\n",
        "  with zipfile.ZipFile(zip_filename, 'w', zipfile.ZIP_DEFLATED) as zipf:\n",
        "    for folder_path in folder_paths:\n",
        "      for root, _, files in os.walk(folder_path):\n",
        "        for file in files:\n",
        "          file_path = os.path.join(root, file)\n",
        "          zipf.write(file_path, arcname=os.path.relpath(file_path, folder_path))\n",
        "\n",
        "zip_folders(['/content/tfjs_model'], 'tfjs_model.zip')\n"
      ],
      "metadata": {
        "id": "sO9xUYqEvjsw"
      },
      "execution_count": 24,
      "outputs": []
    }
  ]
}